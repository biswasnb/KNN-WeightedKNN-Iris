{
 "cells": [
  {
   "cell_type": "markdown",
   "id": "01d50ca6-d99b-4715-8ca7-59d0d6ace466",
   "metadata": {},
   "source": [
    "## Using Euclidean distance\n",
    "\n",
    "## Implement KNN and weighted KNN  algorithm on Iris dataset."
   ]
  },
  {
   "cell_type": "markdown",
   "id": "d39f245a-af42-49b4-9c95-62a816a93310",
   "metadata": {},
   "source": [
    "\n",
    "Importing the libraries"
   ]
  },
  {
   "cell_type": "code",
   "execution_count": 25,
   "id": "5ee85530-2902-48ef-831c-90b80d7c1bdb",
   "metadata": {},
   "outputs": [],
   "source": [
    "import numpy as np\n",
    "import matplotlib.pyplot as plt\n",
    "import pandas as pd\n",
    "import math\n",
    "from collections import Counter"
   ]
  },
  {
   "cell_type": "markdown",
   "id": "019c2c0b-95e9-4510-a232-a51e509a7541",
   "metadata": {},
   "source": [
    "Importing the dataset"
   ]
  },
  {
   "cell_type": "code",
   "execution_count": 2,
   "id": "7b530587-2eea-460d-a9f2-33081c422051",
   "metadata": {},
   "outputs": [],
   "source": [
    "\n",
    "dataset = pd.read_csv('Iris.csv')   \n",
    "X = dataset.iloc[:, 1:5].values  \n",
    "y = dataset.iloc[:, 5].values\n",
    "    "
   ]
  },
  {
   "cell_type": "markdown",
   "id": "690f777b-a7c7-4e4c-bec2-a897c734b0d6",
   "metadata": {},
   "source": [
    "Splitting the dataset into the Training set and Test set"
   ]
  },
  {
   "cell_type": "code",
   "execution_count": 3,
   "id": "9886adec-df2f-4c0e-905a-14fdbc5f0f54",
   "metadata": {},
   "outputs": [],
   "source": [
    "from sklearn.model_selection import train_test_split\n",
    "X_train, X_test, y_train, y_test = train_test_split(X, y, test_size = 0.25, random_state = 0)"
   ]
  },
  {
   "cell_type": "code",
   "execution_count": 4,
   "id": "5dcca700-23d8-4cb9-b80a-5ee23fd3bdf0",
   "metadata": {},
   "outputs": [
    {
     "name": "stdout",
     "output_type": "stream",
     "text": [
      "[[5.9 3.  4.2 1.5]\n",
      " [5.8 2.6 4.  1.2]\n",
      " [6.8 3.  5.5 2.1]\n",
      " [4.7 3.2 1.3 0.2]\n",
      " [6.9 3.1 5.1 2.3]\n",
      " [5.  3.5 1.6 0.6]\n",
      " [5.4 3.7 1.5 0.2]\n",
      " [5.  2.  3.5 1. ]\n",
      " [6.5 3.  5.5 1.8]\n",
      " [6.7 3.3 5.7 2.5]\n",
      " [6.  2.2 5.  1.5]\n",
      " [6.7 2.5 5.8 1.8]\n",
      " [5.6 2.5 3.9 1.1]\n",
      " [7.7 3.  6.1 2.3]\n",
      " [6.3 3.3 4.7 1.6]\n",
      " [5.5 2.4 3.8 1.1]\n",
      " [6.3 2.7 4.9 1.8]\n",
      " [6.3 2.8 5.1 1.5]\n",
      " [4.9 2.5 4.5 1.7]\n",
      " [6.3 2.5 5.  1.9]\n",
      " [7.  3.2 4.7 1.4]\n",
      " [6.5 3.  5.2 2. ]\n",
      " [6.  3.4 4.5 1.6]\n",
      " [4.8 3.1 1.6 0.2]\n",
      " [5.8 2.7 5.1 1.9]\n",
      " [5.6 2.7 4.2 1.3]\n",
      " [5.6 2.9 3.6 1.3]\n",
      " [5.5 2.5 4.  1.3]\n",
      " [6.1 3.  4.6 1.4]\n",
      " [7.2 3.2 6.  1.8]\n",
      " [5.3 3.7 1.5 0.2]\n",
      " [4.3 3.  1.1 0.1]\n",
      " [6.4 2.7 5.3 1.9]\n",
      " [5.7 3.  4.2 1.2]\n",
      " [5.4 3.4 1.7 0.2]\n",
      " [5.7 4.4 1.5 0.4]\n",
      " [6.9 3.1 4.9 1.5]\n",
      " [4.6 3.1 1.5 0.2]\n",
      " [5.9 3.  5.1 1.8]\n",
      " [5.1 2.5 3.  1.1]\n",
      " [4.6 3.4 1.4 0.3]\n",
      " [6.2 2.2 4.5 1.5]\n",
      " [7.2 3.6 6.1 2.5]\n",
      " [5.7 2.9 4.2 1.3]\n",
      " [4.8 3.  1.4 0.1]\n",
      " [7.1 3.  5.9 2.1]\n",
      " [6.9 3.2 5.7 2.3]\n",
      " [6.5 3.  5.8 2.2]\n",
      " [6.4 2.8 5.6 2.1]\n",
      " [5.1 3.8 1.6 0.2]\n",
      " [4.8 3.4 1.6 0.2]\n",
      " [6.5 3.2 5.1 2. ]\n",
      " [6.7 3.3 5.7 2.1]\n",
      " [4.5 2.3 1.3 0.3]\n",
      " [6.2 3.4 5.4 2.3]\n",
      " [4.9 3.  1.4 0.2]\n",
      " [5.7 2.5 5.  2. ]\n",
      " [6.9 3.1 5.4 2.1]\n",
      " [4.4 3.2 1.3 0.2]\n",
      " [5.  3.6 1.4 0.2]\n",
      " [7.2 3.  5.8 1.6]\n",
      " [5.1 3.5 1.4 0.3]\n",
      " [4.4 3.  1.3 0.2]\n",
      " [5.4 3.9 1.7 0.4]\n",
      " [5.5 2.3 4.  1.3]\n",
      " [6.8 3.2 5.9 2.3]\n",
      " [7.6 3.  6.6 2.1]\n",
      " [5.1 3.5 1.4 0.2]\n",
      " [4.9 3.1 1.5 0.1]\n",
      " [5.2 3.4 1.4 0.2]\n",
      " [5.7 2.8 4.5 1.3]\n",
      " [6.6 3.  4.4 1.4]\n",
      " [5.  3.2 1.2 0.2]\n",
      " [5.1 3.3 1.7 0.5]\n",
      " [6.4 2.9 4.3 1.3]\n",
      " [5.4 3.4 1.5 0.4]\n",
      " [7.7 2.6 6.9 2.3]\n",
      " [4.9 2.4 3.3 1. ]\n",
      " [7.9 3.8 6.4 2. ]\n",
      " [6.7 3.1 4.4 1.4]\n",
      " [5.2 4.1 1.5 0.1]\n",
      " [6.  3.  4.8 1.8]\n",
      " [5.8 4.  1.2 0.2]\n",
      " [7.7 2.8 6.7 2. ]\n",
      " [5.1 3.8 1.5 0.3]\n",
      " [4.7 3.2 1.6 0.2]\n",
      " [7.4 2.8 6.1 1.9]\n",
      " [5.  3.3 1.4 0.2]\n",
      " [6.3 3.4 5.6 2.4]\n",
      " [5.7 2.8 4.1 1.3]\n",
      " [5.8 2.7 3.9 1.2]\n",
      " [5.7 2.6 3.5 1. ]\n",
      " [6.4 3.2 5.3 2.3]\n",
      " [6.7 3.  5.2 2.3]\n",
      " [6.3 2.5 4.9 1.5]\n",
      " [6.7 3.  5.  1.7]\n",
      " [5.  3.  1.6 0.2]\n",
      " [5.5 2.4 3.7 1. ]\n",
      " [6.7 3.1 5.6 2.4]\n",
      " [5.8 2.7 5.1 1.9]\n",
      " [5.1 3.4 1.5 0.2]\n",
      " [6.6 2.9 4.6 1.3]\n",
      " [5.6 3.  4.1 1.3]\n",
      " [5.9 3.2 4.8 1.8]\n",
      " [6.3 2.3 4.4 1.3]\n",
      " [5.5 3.5 1.3 0.2]\n",
      " [5.1 3.7 1.5 0.4]\n",
      " [4.9 3.1 1.5 0.1]\n",
      " [6.3 2.9 5.6 1.8]\n",
      " [5.8 2.7 4.1 1. ]\n",
      " [7.7 3.8 6.7 2.2]\n",
      " [4.6 3.2 1.4 0.2]]\n"
     ]
    }
   ],
   "source": [
    "print(X_train)"
   ]
  },
  {
   "cell_type": "code",
   "execution_count": 5,
   "id": "015f2c18-9064-4fb1-824d-673b5d667902",
   "metadata": {},
   "outputs": [
    {
     "name": "stdout",
     "output_type": "stream",
     "text": [
      "['Iris-versicolor' 'Iris-versicolor' 'Iris-virginica' 'Iris-setosa'\n",
      " 'Iris-virginica' 'Iris-setosa' 'Iris-setosa' 'Iris-versicolor'\n",
      " 'Iris-virginica' 'Iris-virginica' 'Iris-virginica' 'Iris-virginica'\n",
      " 'Iris-versicolor' 'Iris-virginica' 'Iris-versicolor' 'Iris-versicolor'\n",
      " 'Iris-virginica' 'Iris-virginica' 'Iris-virginica' 'Iris-virginica'\n",
      " 'Iris-versicolor' 'Iris-virginica' 'Iris-versicolor' 'Iris-setosa'\n",
      " 'Iris-virginica' 'Iris-versicolor' 'Iris-versicolor' 'Iris-versicolor'\n",
      " 'Iris-versicolor' 'Iris-virginica' 'Iris-setosa' 'Iris-setosa'\n",
      " 'Iris-virginica' 'Iris-versicolor' 'Iris-setosa' 'Iris-setosa'\n",
      " 'Iris-versicolor' 'Iris-setosa' 'Iris-virginica' 'Iris-versicolor'\n",
      " 'Iris-setosa' 'Iris-versicolor' 'Iris-virginica' 'Iris-versicolor'\n",
      " 'Iris-setosa' 'Iris-virginica' 'Iris-virginica' 'Iris-virginica'\n",
      " 'Iris-virginica' 'Iris-setosa' 'Iris-setosa' 'Iris-virginica'\n",
      " 'Iris-virginica' 'Iris-setosa' 'Iris-virginica' 'Iris-setosa'\n",
      " 'Iris-virginica' 'Iris-virginica' 'Iris-setosa' 'Iris-setosa'\n",
      " 'Iris-virginica' 'Iris-setosa' 'Iris-setosa' 'Iris-setosa'\n",
      " 'Iris-versicolor' 'Iris-virginica' 'Iris-virginica' 'Iris-setosa'\n",
      " 'Iris-setosa' 'Iris-setosa' 'Iris-versicolor' 'Iris-versicolor'\n",
      " 'Iris-setosa' 'Iris-setosa' 'Iris-versicolor' 'Iris-setosa'\n",
      " 'Iris-virginica' 'Iris-versicolor' 'Iris-virginica' 'Iris-versicolor'\n",
      " 'Iris-setosa' 'Iris-virginica' 'Iris-setosa' 'Iris-virginica'\n",
      " 'Iris-setosa' 'Iris-setosa' 'Iris-virginica' 'Iris-setosa'\n",
      " 'Iris-virginica' 'Iris-versicolor' 'Iris-versicolor' 'Iris-versicolor'\n",
      " 'Iris-virginica' 'Iris-virginica' 'Iris-versicolor' 'Iris-versicolor'\n",
      " 'Iris-setosa' 'Iris-versicolor' 'Iris-virginica' 'Iris-virginica'\n",
      " 'Iris-setosa' 'Iris-versicolor' 'Iris-versicolor' 'Iris-versicolor'\n",
      " 'Iris-versicolor' 'Iris-setosa' 'Iris-setosa' 'Iris-setosa'\n",
      " 'Iris-virginica' 'Iris-versicolor' 'Iris-virginica' 'Iris-setosa']\n"
     ]
    }
   ],
   "source": [
    "print(y_train)"
   ]
  },
  {
   "cell_type": "code",
   "execution_count": 6,
   "id": "c86903e2-c6b8-440c-b8ee-d008d2efac8b",
   "metadata": {},
   "outputs": [
    {
     "name": "stdout",
     "output_type": "stream",
     "text": [
      "[[5.8 2.8 5.1 2.4]\n",
      " [6.  2.2 4.  1. ]\n",
      " [5.5 4.2 1.4 0.2]\n",
      " [7.3 2.9 6.3 1.8]\n",
      " [5.  3.4 1.5 0.2]\n",
      " [6.3 3.3 6.  2.5]\n",
      " [5.  3.5 1.3 0.3]\n",
      " [6.7 3.1 4.7 1.5]\n",
      " [6.8 2.8 4.8 1.4]\n",
      " [6.1 2.8 4.  1.3]\n",
      " [6.1 2.6 5.6 1.4]\n",
      " [6.4 3.2 4.5 1.5]\n",
      " [6.1 2.8 4.7 1.2]\n",
      " [6.5 2.8 4.6 1.5]\n",
      " [6.1 2.9 4.7 1.4]\n",
      " [4.9 3.1 1.5 0.1]\n",
      " [6.  2.9 4.5 1.5]\n",
      " [5.5 2.6 4.4 1.2]\n",
      " [4.8 3.  1.4 0.3]\n",
      " [5.4 3.9 1.3 0.4]\n",
      " [5.6 2.8 4.9 2. ]\n",
      " [5.6 3.  4.5 1.5]\n",
      " [4.8 3.4 1.9 0.2]\n",
      " [4.4 2.9 1.4 0.2]\n",
      " [6.2 2.8 4.8 1.8]\n",
      " [4.6 3.6 1.  0.2]\n",
      " [5.1 3.8 1.9 0.4]\n",
      " [6.2 2.9 4.3 1.3]\n",
      " [5.  2.3 3.3 1. ]\n",
      " [5.  3.4 1.6 0.4]\n",
      " [6.4 3.1 5.5 1.8]\n",
      " [5.4 3.  4.5 1.5]\n",
      " [5.2 3.5 1.5 0.2]\n",
      " [6.1 3.  4.9 1.8]\n",
      " [6.4 2.8 5.6 2.2]\n",
      " [5.2 2.7 3.9 1.4]\n",
      " [5.7 3.8 1.7 0.3]\n",
      " [6.  2.7 5.1 1.6]]\n"
     ]
    }
   ],
   "source": [
    "print(X_test)"
   ]
  },
  {
   "cell_type": "code",
   "execution_count": 7,
   "id": "3cb6419d-0007-4907-80ca-2e5d612582c8",
   "metadata": {},
   "outputs": [
    {
     "name": "stdout",
     "output_type": "stream",
     "text": [
      "['Iris-virginica' 'Iris-versicolor' 'Iris-setosa' 'Iris-virginica'\n",
      " 'Iris-setosa' 'Iris-virginica' 'Iris-setosa' 'Iris-versicolor'\n",
      " 'Iris-versicolor' 'Iris-versicolor' 'Iris-virginica' 'Iris-versicolor'\n",
      " 'Iris-versicolor' 'Iris-versicolor' 'Iris-versicolor' 'Iris-setosa'\n",
      " 'Iris-versicolor' 'Iris-versicolor' 'Iris-setosa' 'Iris-setosa'\n",
      " 'Iris-virginica' 'Iris-versicolor' 'Iris-setosa' 'Iris-setosa'\n",
      " 'Iris-virginica' 'Iris-setosa' 'Iris-setosa' 'Iris-versicolor'\n",
      " 'Iris-versicolor' 'Iris-setosa' 'Iris-virginica' 'Iris-versicolor'\n",
      " 'Iris-setosa' 'Iris-virginica' 'Iris-virginica' 'Iris-versicolor'\n",
      " 'Iris-setosa' 'Iris-versicolor']\n"
     ]
    }
   ],
   "source": [
    "print(y_test)"
   ]
  },
  {
   "cell_type": "markdown",
   "id": "9fd0acd3-f895-47a0-a5be-9ccde9f17cee",
   "metadata": {},
   "source": [
    "Feature Scaling"
   ]
  },
  {
   "cell_type": "code",
   "execution_count": 8,
   "id": "13f0b569-a9d0-4cb9-abe8-cf102d9f3901",
   "metadata": {},
   "outputs": [],
   "source": [
    "from sklearn.preprocessing import StandardScaler\n",
    "sc = StandardScaler()\n",
    "X_train = sc.fit_transform(X_train)\n",
    "X_test = sc.transform(X_test)"
   ]
  },
  {
   "cell_type": "code",
   "execution_count": 9,
   "id": "a51ae677-ada4-4054-9ed3-8fb6051ba3c9",
   "metadata": {},
   "outputs": [
    {
     "name": "stdout",
     "output_type": "stream",
     "text": [
      "[[ 1.54399532e-02 -1.19254753e-01  2.25126850e-01  3.56381749e-01]\n",
      " [-9.98450310e-02 -1.04039491e+00  1.13559562e-01 -2.86480506e-02]\n",
      " [ 1.05300481e+00 -1.19254753e-01  9.50314227e-01  1.12644135e+00]\n",
      " [-1.36797986e+00  3.41315328e-01 -1.39259884e+00 -1.31208072e+00]\n",
      " [ 1.16828980e+00  1.11030287e-01  7.27179649e-01  1.38312788e+00]\n",
      " [-1.02212490e+00  1.03217045e+00 -1.22524790e+00 -7.98707650e-01]\n",
      " [-5.60984968e-01  1.49274053e+00 -1.28103155e+00 -1.31208072e+00]\n",
      " [-1.02212490e+00 -2.42210516e+00 -1.65358660e-01 -2.85334584e-01]\n",
      " [ 7.07149859e-01 -1.19254753e-01  9.50314227e-01  7.41411549e-01]\n",
      " [ 9.37719827e-01  5.71600368e-01  1.06188152e+00  1.63981441e+00]\n",
      " [ 1.30724937e-01 -1.96153508e+00  6.71396005e-01  3.56381749e-01]\n",
      " [ 9.37719827e-01 -1.27067995e+00  1.11766516e+00  7.41411549e-01]\n",
      " [-3.30414999e-01 -1.27067995e+00  5.77759173e-02 -1.56991317e-01]\n",
      " [ 2.09056967e+00 -1.19254753e-01  1.28501609e+00  1.38312788e+00]\n",
      " [ 4.76579890e-01  5.71600368e-01  5.04045072e-01  4.84725016e-01]\n",
      " [-4.45699984e-01 -1.50096499e+00  1.99227301e-03 -1.56991317e-01]\n",
      " [ 4.76579890e-01 -8.10109874e-01  6.15612361e-01  7.41411549e-01]\n",
      " [ 4.76579890e-01 -5.79824834e-01  7.27179649e-01  3.56381749e-01]\n",
      " [-1.13740989e+00 -1.27067995e+00  3.92477783e-01  6.13068282e-01]\n",
      " [ 4.76579890e-01 -1.27067995e+00  6.71396005e-01  8.69754815e-01]\n",
      " [ 1.28357478e+00  3.41315328e-01  5.04045072e-01  2.28038483e-01]\n",
      " [ 7.07149859e-01 -1.19254753e-01  7.82963294e-01  9.98098082e-01]\n",
      " [ 1.30724937e-01  8.01885408e-01  3.92477783e-01  4.84725016e-01]\n",
      " [-1.25269487e+00  1.11030287e-01 -1.22524790e+00 -1.31208072e+00]\n",
      " [-9.98450310e-02 -8.10109874e-01  7.27179649e-01  8.69754815e-01]\n",
      " [-3.30414999e-01 -8.10109874e-01  2.25126850e-01  9.96952160e-02]\n",
      " [-3.30414999e-01 -3.49539793e-01 -1.09575016e-01  9.96952160e-02]\n",
      " [-4.45699984e-01 -1.27067995e+00  1.13559562e-01  9.96952160e-02]\n",
      " [ 2.46009922e-01 -1.19254753e-01  4.48261428e-01  2.28038483e-01]\n",
      " [ 1.51414475e+00  3.41315328e-01  1.22923245e+00  7.41411549e-01]\n",
      " [-6.76269952e-01  1.49274053e+00 -1.28103155e+00 -1.31208072e+00]\n",
      " [-1.82911979e+00 -1.19254753e-01 -1.50416612e+00 -1.44042398e+00]\n",
      " [ 5.91864874e-01 -8.10109874e-01  8.38746938e-01  8.69754815e-01]\n",
      " [-2.15130015e-01 -1.19254753e-01  2.25126850e-01 -2.86480506e-02]\n",
      " [-5.60984968e-01  8.01885408e-01 -1.16946426e+00 -1.31208072e+00]\n",
      " [-2.15130015e-01  3.10473581e+00 -1.28103155e+00 -1.05539418e+00]\n",
      " [ 1.16828980e+00  1.11030287e-01  6.15612361e-01  3.56381749e-01]\n",
      " [-1.48326484e+00  1.11030287e-01 -1.28103155e+00 -1.31208072e+00]\n",
      " [ 1.54399532e-02 -1.19254753e-01  7.27179649e-01  7.41411549e-01]\n",
      " [-9.06839920e-01 -1.27067995e+00 -4.44276882e-01 -1.56991317e-01]\n",
      " [-1.48326484e+00  8.01885408e-01 -1.33681519e+00 -1.18373745e+00]\n",
      " [ 3.61294906e-01 -1.96153508e+00  3.92477783e-01  3.56381749e-01]\n",
      " [ 1.51414475e+00  1.26245549e+00  1.28501609e+00  1.63981441e+00]\n",
      " [-2.15130015e-01 -3.49539793e-01  2.25126850e-01  9.96952160e-02]\n",
      " [-1.25269487e+00 -1.19254753e-01 -1.33681519e+00 -1.44042398e+00]\n",
      " [ 1.39885976e+00 -1.19254753e-01  1.17344880e+00  1.12644135e+00]\n",
      " [ 1.16828980e+00  3.41315328e-01  1.06188152e+00  1.38312788e+00]\n",
      " [ 7.07149859e-01 -1.19254753e-01  1.11766516e+00  1.25478461e+00]\n",
      " [ 5.91864874e-01 -5.79824834e-01  1.00609787e+00  1.12644135e+00]\n",
      " [-9.06839920e-01  1.72302557e+00 -1.22524790e+00 -1.31208072e+00]\n",
      " [-1.25269487e+00  8.01885408e-01 -1.22524790e+00 -1.31208072e+00]\n",
      " [ 7.07149859e-01  3.41315328e-01  7.27179649e-01  9.98098082e-01]\n",
      " [ 9.37719827e-01  5.71600368e-01  1.06188152e+00  1.12644135e+00]\n",
      " [-1.59854983e+00 -1.73125004e+00 -1.39259884e+00 -1.18373745e+00]\n",
      " [ 3.61294906e-01  8.01885408e-01  8.94530582e-01  1.38312788e+00]\n",
      " [-1.13740989e+00 -1.19254753e-01 -1.33681519e+00 -1.31208072e+00]\n",
      " [-2.15130015e-01 -1.27067995e+00  6.71396005e-01  9.98098082e-01]\n",
      " [ 1.16828980e+00  1.11030287e-01  8.94530582e-01  1.12644135e+00]\n",
      " [-1.71383481e+00  3.41315328e-01 -1.39259884e+00 -1.31208072e+00]\n",
      " [-1.02212490e+00  1.26245549e+00 -1.33681519e+00 -1.31208072e+00]\n",
      " [ 1.51414475e+00 -1.19254753e-01  1.11766516e+00  4.84725016e-01]\n",
      " [-9.06839920e-01  1.03217045e+00 -1.33681519e+00 -1.18373745e+00]\n",
      " [-1.71383481e+00 -1.19254753e-01 -1.39259884e+00 -1.31208072e+00]\n",
      " [-5.60984968e-01  1.95331061e+00 -1.16946426e+00 -1.05539418e+00]\n",
      " [-4.45699984e-01 -1.73125004e+00  1.13559562e-01  9.96952160e-02]\n",
      " [ 1.05300481e+00  3.41315328e-01  1.17344880e+00  1.38312788e+00]\n",
      " [ 1.97528468e+00 -1.19254753e-01  1.56393431e+00  1.12644135e+00]\n",
      " [-9.06839920e-01  1.03217045e+00 -1.33681519e+00 -1.31208072e+00]\n",
      " [-1.13740989e+00  1.11030287e-01 -1.28103155e+00 -1.44042398e+00]\n",
      " [-7.91554936e-01  8.01885408e-01 -1.33681519e+00 -1.31208072e+00]\n",
      " [-2.15130015e-01 -5.79824834e-01  3.92477783e-01  9.96952160e-02]\n",
      " [ 8.22434843e-01 -1.19254753e-01  3.36694139e-01  2.28038483e-01]\n",
      " [-1.02212490e+00  3.41315328e-01 -1.44838248e+00 -1.31208072e+00]\n",
      " [-9.06839920e-01  5.71600368e-01 -1.16946426e+00 -9.27050916e-01]\n",
      " [ 5.91864874e-01 -3.49539793e-01  2.80910495e-01  9.96952160e-02]\n",
      " [-5.60984968e-01  8.01885408e-01 -1.28103155e+00 -1.05539418e+00]\n",
      " [ 2.09056967e+00 -1.04039491e+00  1.73128525e+00  1.38312788e+00]\n",
      " [-1.13740989e+00 -1.50096499e+00 -2.76925949e-01 -2.85334584e-01]\n",
      " [ 2.32113964e+00  1.72302557e+00  1.45236703e+00  9.98098082e-01]\n",
      " [ 9.37719827e-01  1.11030287e-01  3.36694139e-01  2.28038483e-01]\n",
      " [-7.91554936e-01  2.41388069e+00 -1.28103155e+00 -1.44042398e+00]\n",
      " [ 1.30724937e-01 -1.19254753e-01  5.59828716e-01  7.41411549e-01]\n",
      " [-9.98450310e-02  2.18359565e+00 -1.44838248e+00 -1.31208072e+00]\n",
      " [ 2.09056967e+00 -5.79824834e-01  1.61971796e+00  9.98098082e-01]\n",
      " [-9.06839920e-01  1.72302557e+00 -1.28103155e+00 -1.18373745e+00]\n",
      " [-1.36797986e+00  3.41315328e-01 -1.22524790e+00 -1.31208072e+00]\n",
      " [ 1.74471472e+00 -5.79824834e-01  1.28501609e+00  8.69754815e-01]\n",
      " [-1.02212490e+00  5.71600368e-01 -1.33681519e+00 -1.31208072e+00]\n",
      " [ 4.76579890e-01  8.01885408e-01  1.00609787e+00  1.51147115e+00]\n",
      " [-2.15130015e-01 -5.79824834e-01  1.69343206e-01  9.96952160e-02]\n",
      " [-9.98450310e-02 -8.10109874e-01  5.77759173e-02 -2.86480506e-02]\n",
      " [-2.15130015e-01 -1.04039491e+00 -1.65358660e-01 -2.85334584e-01]\n",
      " [ 5.91864874e-01  3.41315328e-01  8.38746938e-01  1.38312788e+00]\n",
      " [ 9.37719827e-01 -1.19254753e-01  7.82963294e-01  1.38312788e+00]\n",
      " [ 4.76579890e-01 -1.27067995e+00  6.15612361e-01  3.56381749e-01]\n",
      " [ 9.37719827e-01 -1.19254753e-01  6.71396005e-01  6.13068282e-01]\n",
      " [-1.02212490e+00 -1.19254753e-01 -1.22524790e+00 -1.31208072e+00]\n",
      " [-4.45699984e-01 -1.50096499e+00 -5.37913713e-02 -2.85334584e-01]\n",
      " [ 9.37719827e-01  1.11030287e-01  1.00609787e+00  1.51147115e+00]\n",
      " [-9.98450310e-02 -8.10109874e-01  7.27179649e-01  8.69754815e-01]\n",
      " [-9.06839920e-01  8.01885408e-01 -1.28103155e+00 -1.31208072e+00]\n",
      " [ 8.22434843e-01 -3.49539793e-01  4.48261428e-01  9.96952160e-02]\n",
      " [-3.30414999e-01 -1.19254753e-01  1.69343206e-01  9.96952160e-02]\n",
      " [ 1.54399532e-02  3.41315328e-01  5.59828716e-01  7.41411549e-01]\n",
      " [ 4.76579890e-01 -1.73125004e+00  3.36694139e-01  9.96952160e-02]\n",
      " [-4.45699984e-01  1.03217045e+00 -1.39259884e+00 -1.31208072e+00]\n",
      " [-9.06839920e-01  1.49274053e+00 -1.28103155e+00 -1.05539418e+00]\n",
      " [-1.13740989e+00  1.11030287e-01 -1.28103155e+00 -1.44042398e+00]\n",
      " [ 4.76579890e-01 -3.49539793e-01  1.00609787e+00  7.41411549e-01]\n",
      " [-9.98450310e-02 -8.10109874e-01  1.69343206e-01 -2.85334584e-01]\n",
      " [ 2.09056967e+00  1.72302557e+00  1.61971796e+00  1.25478461e+00]\n",
      " [-1.48326484e+00  3.41315328e-01 -1.33681519e+00 -1.31208072e+00]]\n"
     ]
    }
   ],
   "source": [
    "print(X_train)"
   ]
  },
  {
   "cell_type": "code",
   "execution_count": 10,
   "id": "04f1a847-dd67-4c12-ade9-4ef6fe6de05c",
   "metadata": {},
   "outputs": [
    {
     "name": "stdout",
     "output_type": "stream",
     "text": [
      "[[-0.09984503 -0.57982483  0.72717965  1.51147115]\n",
      " [ 0.13072494 -1.96153508  0.11355956 -0.28533458]\n",
      " [-0.44569998  2.64416573 -1.33681519 -1.31208072]\n",
      " [ 1.62942973 -0.34953979  1.39658338  0.74141155]\n",
      " [-1.0221249   0.80188541 -1.28103155 -1.31208072]\n",
      " [ 0.47657989  0.57160037  1.22923245  1.63981441]\n",
      " [-1.0221249   1.03217045 -1.39259884 -1.18373745]\n",
      " [ 0.93771983  0.11103029  0.50404507  0.35638175]\n",
      " [ 1.05300481 -0.57982483  0.55982872  0.22803848]\n",
      " [ 0.24600992 -0.57982483  0.11355956  0.09969522]\n",
      " [ 0.24600992 -1.04039491  1.00609787  0.22803848]\n",
      " [ 0.59186487  0.34131533  0.39247778  0.35638175]\n",
      " [ 0.24600992 -0.57982483  0.50404507 -0.02864805]\n",
      " [ 0.70714986 -0.57982483  0.44826143  0.35638175]\n",
      " [ 0.24600992 -0.34953979  0.50404507  0.22803848]\n",
      " [-1.13740989  0.11103029 -1.28103155 -1.44042398]\n",
      " [ 0.13072494 -0.34953979  0.39247778  0.35638175]\n",
      " [-0.44569998 -1.04039491  0.33669414 -0.02864805]\n",
      " [-1.25269487 -0.11925475 -1.33681519 -1.18373745]\n",
      " [-0.56098497  1.95331061 -1.39259884 -1.05539418]\n",
      " [-0.330415   -0.57982483  0.61561236  0.99809808]\n",
      " [-0.330415   -0.11925475  0.39247778  0.35638175]\n",
      " [-1.25269487  0.80188541 -1.05789697 -1.31208072]\n",
      " [-1.71383481 -0.34953979 -1.33681519 -1.31208072]\n",
      " [ 0.36129491 -0.57982483  0.55982872  0.74141155]\n",
      " [-1.48326484  1.26245549 -1.55994977 -1.31208072]\n",
      " [-0.90683992  1.72302557 -1.05789697 -1.05539418]\n",
      " [ 0.36129491 -0.34953979  0.28091049  0.09969522]\n",
      " [-1.0221249  -1.73125004 -0.27692595 -0.28533458]\n",
      " [-1.0221249   0.80188541 -1.2252479  -1.05539418]\n",
      " [ 0.59186487  0.11103029  0.95031423  0.74141155]\n",
      " [-0.56098497 -0.11925475  0.39247778  0.35638175]\n",
      " [-0.79155494  1.03217045 -1.28103155 -1.31208072]\n",
      " [ 0.24600992 -0.11925475  0.61561236  0.74141155]\n",
      " [ 0.59186487 -0.57982483  1.00609787  1.25478461]\n",
      " [-0.79155494 -0.81010987  0.05777592  0.22803848]\n",
      " [-0.21513002  1.72302557 -1.16946426 -1.18373745]\n",
      " [ 0.13072494 -0.81010987  0.72717965  0.48472502]]\n"
     ]
    }
   ],
   "source": [
    "print(X_test)"
   ]
  },
  {
   "cell_type": "markdown",
   "id": "eff8b0f9",
   "metadata": {},
   "source": [
    "Euclidean distance function\n"
   ]
  },
  {
   "cell_type": "code",
   "execution_count": 11,
   "id": "9cf19eb1",
   "metadata": {},
   "outputs": [],
   "source": [
    "def euclidean_distance(point1, point2):\n",
    "    distance = 0.0\n",
    "    for i in range(len(point1)):\n",
    "        distance += (point1[i] - point2[i]) ** 2\n",
    "    return math.sqrt(distance)"
   ]
  },
  {
   "cell_type": "markdown",
   "id": "002ff3a2",
   "metadata": {},
   "source": [
    " K nearest neighbors"
   ]
  },
  {
   "cell_type": "code",
   "execution_count": 18,
   "id": "8f8cab78",
   "metadata": {},
   "outputs": [],
   "source": [
    "def get_neighbors(X_train, y_train, test_instance, k):\n",
    "    distances = []\n",
    "    for i in range(len(X_train)):\n",
    "        dist = euclidean_distance(X_train[i], test_instance)\n",
    "        distances.append((y_train[i], dist))  # (label, distance)\n",
    "    distances.sort(key=lambda x: x[1])  # Sort by distance\n",
    "    neighbors = [distances[i][0] for i in range(k)]  # Get the labels of the k-nearest neighbors\n",
    "    return neighbors"
   ]
  },
  {
   "cell_type": "markdown",
   "id": "d493611e",
   "metadata": {},
   "source": [
    "Predicting a new result"
   ]
  },
  {
   "cell_type": "code",
   "execution_count": 19,
   "id": "f76c7845",
   "metadata": {},
   "outputs": [],
   "source": [
    "def predict_classification(X_train, y_train, test_instance, k):\n",
    "    neighbors = get_neighbors(X_train, y_train, test_instance, k)\n",
    "    prediction = Counter(neighbors).most_common(1)[0][0]  \n",
    "    return prediction"
   ]
  },
  {
   "cell_type": "code",
   "execution_count": 20,
   "id": "f994cd5d",
   "metadata": {},
   "outputs": [],
   "source": [
    "k = 5 "
   ]
  },
  {
   "cell_type": "code",
   "execution_count": 21,
   "id": "c4816254",
   "metadata": {},
   "outputs": [],
   "source": [
    "new_instance = np.array([4.1, 2.3, 3.1, 5]) \n",
    "new_instance_scaled = sc.transform([new_instance])  "
   ]
  },
  {
   "cell_type": "code",
   "execution_count": 27,
   "id": "81133ddf",
   "metadata": {},
   "outputs": [
    {
     "name": "stdout",
     "output_type": "stream",
     "text": [
      "Iris-virginica\n"
     ]
    }
   ],
   "source": [
    "predicted_label = predict_classification(X_train, y_train, new_instance_scaled[0], k)\n",
    "\n",
    "print( predicted_label)"
   ]
  },
  {
   "cell_type": "markdown",
   "id": "4bf9308a",
   "metadata": {},
   "source": [
    "Predicting the Test set results"
   ]
  },
  {
   "cell_type": "code",
   "execution_count": 30,
   "id": "74a839ea",
   "metadata": {},
   "outputs": [
    {
     "name": "stdout",
     "output_type": "stream",
     "text": [
      "[['Iris-virginica' 'Iris-virginica']\n",
      " ['Iris-versicolor' 'Iris-versicolor']\n",
      " ['Iris-setosa' 'Iris-setosa']\n",
      " ['Iris-virginica' 'Iris-virginica']\n",
      " ['Iris-setosa' 'Iris-setosa']\n",
      " ['Iris-virginica' 'Iris-virginica']\n",
      " ['Iris-setosa' 'Iris-setosa']\n",
      " ['Iris-versicolor' 'Iris-versicolor']\n",
      " ['Iris-versicolor' 'Iris-versicolor']\n",
      " ['Iris-versicolor' 'Iris-versicolor']\n",
      " ['Iris-virginica' 'Iris-virginica']\n",
      " ['Iris-versicolor' 'Iris-versicolor']\n",
      " ['Iris-versicolor' 'Iris-versicolor']\n",
      " ['Iris-versicolor' 'Iris-versicolor']\n",
      " ['Iris-versicolor' 'Iris-versicolor']\n",
      " ['Iris-setosa' 'Iris-setosa']\n",
      " ['Iris-versicolor' 'Iris-versicolor']\n",
      " ['Iris-versicolor' 'Iris-versicolor']\n",
      " ['Iris-setosa' 'Iris-setosa']\n",
      " ['Iris-setosa' 'Iris-setosa']\n",
      " ['Iris-virginica' 'Iris-virginica']\n",
      " ['Iris-versicolor' 'Iris-versicolor']\n",
      " ['Iris-setosa' 'Iris-setosa']\n",
      " ['Iris-setosa' 'Iris-setosa']\n",
      " ['Iris-virginica' 'Iris-virginica']\n",
      " ['Iris-setosa' 'Iris-setosa']\n",
      " ['Iris-setosa' 'Iris-setosa']\n",
      " ['Iris-versicolor' 'Iris-versicolor']\n",
      " ['Iris-versicolor' 'Iris-versicolor']\n",
      " ['Iris-setosa' 'Iris-setosa']\n",
      " ['Iris-virginica' 'Iris-virginica']\n",
      " ['Iris-versicolor' 'Iris-versicolor']\n",
      " ['Iris-setosa' 'Iris-setosa']\n",
      " ['Iris-virginica' 'Iris-virginica']\n",
      " ['Iris-virginica' 'Iris-virginica']\n",
      " ['Iris-versicolor' 'Iris-versicolor']\n",
      " ['Iris-setosa' 'Iris-setosa']\n",
      " ['Iris-virginica' 'Iris-versicolor']]\n"
     ]
    }
   ],
   "source": [
    "y_pred = [predict_classification(X_train, y_train, x_test, k) for x_test in X_test]\n",
    "results = np.concatenate((np.array(y_pred).reshape(len(y_pred), 1), np.array(y_test).reshape(len(y_test), 1)), axis=1)\n",
    "print( results)\n"
   ]
  },
  {
   "cell_type": "markdown",
   "id": "a819153b",
   "metadata": {},
   "source": [
    "Making the Confusion Matrix"
   ]
  },
  {
   "cell_type": "code",
   "execution_count": 34,
   "id": "c13f9a52",
   "metadata": {},
   "outputs": [
    {
     "name": "stdout",
     "output_type": "stream",
     "text": [
      "[[13  0  0]\n",
      " [ 0 15  1]\n",
      " [ 0  0  9]]\n",
      "Accuracy: 0.9736842105263158\n"
     ]
    }
   ],
   "source": [
    "from sklearn.preprocessing import StandardScaler\n",
    "from sklearn.metrics import confusion_matrix, ConfusionMatrixDisplay,accuracy_score\n",
    "\n",
    "cm = confusion_matrix(y_test, y_pred, labels=np.unique(y))\n",
    "print(cm)\n",
    "\n",
    "accuracy = accuracy_score(y_test, y_pred)\n",
    "print(\"Accuracy:\", accuracy)"
   ]
  },
  {
   "cell_type": "markdown",
   "id": "936c3ebb-f9ec-4c62-9014-1d75709884d0",
   "metadata": {},
   "source": [
    "\n",
    "Visualising the Training set results"
   ]
  },
  {
   "cell_type": "code",
   "execution_count": 66,
   "id": "0c677138-b3d7-473e-8313-7667e1c3c601",
   "metadata": {},
   "outputs": [
    {
     "name": "stderr",
     "output_type": "stream",
     "text": [
      "C:\\Users\\DT USER\\AppData\\Local\\Temp\\ipykernel_4552\\3331124544.py:32: UserWarning: *c* argument looks like a single numeric RGB or RGBA sequence, which should be avoided as value-mapping will have precedence in case its length matches with *x* & *y*.  Please use the *color* keyword-argument or provide a 2D array with a single row if you intend to specify the same RGB or RGBA value for all points.\n",
      "  plt.scatter(X_set[y_set == j, 0], X_set[y_set == j, 1],\n"
     ]
    },
    {
     "data": {
      "image/png": "[encoded data removed]",
      "text/plain": [
       "<Figure size 640x480 with 1 Axes>"
      ]
     },
     "metadata": {},
     "output_type": "display_data"
    }
   ],
   "source": [
    "from matplotlib.colors import ListedColormap\n",
    "import numpy as np\n",
    "import matplotlib.pyplot as plt\n",
    "\n",
    "# Use the first two features for visualization (Sepal Length and Sepal Width)\n",
    "X_set, y_set = X_train, y_train\n",
    "\n",
    "# Create a mapping from species to integers\n",
    "label_mapping = {label: idx for idx, label in enumerate(np.unique(y_set))}\n",
    "y_set_mapped = np.vectorize(label_mapping.get)(y_set)\n",
    "\n",
    "# Create a mesh grid for the first two features\n",
    "X1, X2 = np.meshgrid(np.arange(start=X_set[:, 0].min() - 1, stop=X_set[:, 0].max() + 1, step=0.1),\n",
    "                     np.arange(start=X_set[:, 1].min() - 1, stop=X_set[:, 1].max() + 1, step=0.1))\n",
    "\n",
    "# Prepare the mesh grid for prediction\n",
    "mesh_points = np.c_[X1.ravel(), X2.ravel(), np.zeros_like(X1.ravel()), np.zeros_like(X1.ravel())]\n",
    "\n",
    "# Predict class for each point in the mesh grid\n",
    "Z = classifier.predict(sc.transform(mesh_points)).reshape(X1.shape)\n",
    "\n",
    "# Map the predicted labels back to the integer format if needed\n",
    "Z_mapped = np.vectorize(label_mapping.get)(Z)\n",
    "\n",
    "# Plotting the decision boundary\n",
    "plt.contourf(X1, X2, Z_mapped, alpha=0.75, cmap=ListedColormap(('red', 'green', 'blue')))\n",
    "plt.xlim(X1.min(), X1.max())\n",
    "plt.ylim(X2.min(), X2.max())\n",
    "\n",
    "# Scatter plot for the training set\n",
    "for i, j in enumerate(np.unique(y_set)):\n",
    "    plt.scatter(X_set[y_set == j, 0], X_set[y_set == j, 1], \n",
    "                c=ListedColormap(('red', 'green', 'blue'))(i), label=j)\n",
    "\n",
    "plt.title('K-NN (Training set)')\n",
    "plt.xlabel('Sepal Length')\n",
    "plt.ylabel('Sepal Width')\n",
    "plt.legend()\n",
    "plt.show()\n"
   ]
  },
  {
   "cell_type": "markdown",
   "id": "1163cafb-f782-4fc9-b4e5-e8a262714f6e",
   "metadata": {},
   "source": [
    "Visualising the Test set results"
   ]
  },
  {
   "cell_type": "code",
   "execution_count": 68,
   "id": "af500f5f-bfb9-4b04-a725-10aa451d7bd9",
   "metadata": {},
   "outputs": [
    {
     "name": "stderr",
     "output_type": "stream",
     "text": [
      "C:\\Users\\DT USER\\AppData\\Local\\Temp\\ipykernel_4552\\4230561004.py:29: UserWarning: *c* argument looks like a single numeric RGB or RGBA sequence, which should be avoided as value-mapping will have precedence in case its length matches with *x* & *y*.  Please use the *color* keyword-argument or provide a 2D array with a single row if you intend to specify the same RGB or RGBA value for all points.\n",
      "  plt.scatter(X_set[y_set == j, 0], X_set[y_set == j, 1],\n"
     ]
    },
    {
     "data": {
      "image/png": "[encoded data removed]",
      "text/plain": [
       "<Figure size 640x480 with 1 Axes>"
      ]
     },
     "metadata": {},
     "output_type": "display_data"
    }
   ],
   "source": [
    "from matplotlib.colors import ListedColormap\n",
    "import numpy as np\n",
    "import matplotlib.pyplot as plt\n",
    "\n",
    "# Use the original test set (with four features) for predictions\n",
    "X_set, y_set = X_test, y_test  # Use all features for prediction\n",
    "\n",
    "# Create a mesh grid for the first two features (Sepal Length and Sepal Width)\n",
    "X1, X2 = np.meshgrid(np.arange(start=X_set[:, 0].min() - 1, stop=X_set[:, 0].max() + 1, step=0.1),\n",
    "                     np.arange(start=X_set[:, 1].min() - 1, stop=X_set[:, 1].max() + 1, step=0.1))\n",
    "\n",
    "# Prepare mesh points for prediction using all four features\n",
    "mesh_points = np.array([[x1, x2, 0, 0] for x1, x2 in zip(X1.ravel(), X2.ravel())])\n",
    "\n",
    "# Predict class for each point in the mesh grid\n",
    "Z = classifier.predict(mesh_points).reshape(X1.shape)\n",
    "\n",
    "# Create a mapping from species to integers\n",
    "label_mapping = {label: idx for idx, label in enumerate(np.unique(y_set))}\n",
    "Z_mapped = np.vectorize(label_mapping.get)(Z)\n",
    "\n",
    "# Plotting the decision boundary\n",
    "plt.contourf(X1, X2, Z_mapped, alpha=0.75, cmap=ListedColormap(('red', 'green', 'blue')))\n",
    "plt.xlim(X1.min(), X1.max())\n",
    "plt.ylim(X2.min(), X2.max())\n",
    "\n",
    "# Scatter plot for the test set\n",
    "for i, j in enumerate(np.unique(y_set)):\n",
    "    plt.scatter(X_set[y_set == j, 0], X_set[y_set == j, 1], \n",
    "                c=ListedColormap(('red', 'green', 'blue'))(i), label=j)\n",
    "\n",
    "plt.title('K-NN (Test set)')\n",
    "plt.xlabel('Sepal Length')\n",
    "plt.ylabel('Sepal Width')\n",
    "plt.legend()\n",
    "plt.show()\n"
   ]
  }
 ],
 "metadata": {
  "kernelspec": {
   "display_name": "Python 3 (ipykernel)",
   "language": "python",
   "name": "python3"
  },
  "language_info": {
   "codemirror_mode": {
    "name": "ipython",
    "version": 3
   },
   "file_extension": ".py",
   "mimetype": "text/x-python",
   "name": "python",
   "nbconvert_exporter": "python",
   "pygments_lexer": "ipython3",
   "version": "3.9.7"
  }
 },
 "nbformat": 4,
 "nbformat_minor": 5
}
